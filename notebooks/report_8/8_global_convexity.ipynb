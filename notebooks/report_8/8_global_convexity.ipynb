{
 "cells": [
  {
   "cell_type": "code",
   "execution_count": 1,
   "metadata": {},
   "outputs": [],
   "source": [
    "import json\n",
    "import random\n",
    "import sys\n",
    "from typing import Dict, List\n",
    "\n",
    "import numpy as np\n",
    "from matplotlib import pyplot as plt\n",
    "\n",
    "sys.path.insert(1, '../../src')\n",
    "\n",
    "from ce.algorithms.greedy_heuristics import random_solution\n",
    "from ce.algorithms.local_search import greedy_local_search, two_edges_neighborhood\n",
    "from ce.algorithms.global_convexity.similarity import calculate_avg_similarity, calculate_similarities, edge_similarity, node_similarity\n",
    "from ce.tsp import create_tsp, TSP\n",
    "from ce.utils.experiments import experiment, quality_plots\n",
    "from scipy.stats import pearsonr"
   ]
  },
  {
   "cell_type": "markdown",
   "metadata": {},
   "source": [
    "# Global convexity (fitness-distance/similarity correlations)"
   ]
  },
  {
   "cell_type": "markdown",
   "metadata": {},
   "source": [
    "**Nina Zukowska 148278, Antoni Solarski 148270**"
   ]
  },
  {
   "cell_type": "code",
   "execution_count": 2,
   "metadata": {},
   "outputs": [],
   "source": [
    "problem_instance_A_path = '../../data/TSPA.csv'\n",
    "problem_instance_B_path = '../../data/TSPB.csv'\n",
    "problem_instance_C_path = '../../data/TSPC.csv'\n",
    "problem_instance_D_path = '../../data/TSPD.csv'"
   ]
  },
  {
   "cell_type": "code",
   "execution_count": 3,
   "metadata": {},
   "outputs": [],
   "source": [
    "tspa = create_tsp(problem_instance_A_path)\n",
    "tspb = create_tsp(problem_instance_B_path)\n",
    "tspc = create_tsp(problem_instance_C_path)\n",
    "tspd = create_tsp(problem_instance_D_path)"
   ]
  },
  {
   "cell_type": "markdown",
   "metadata": {},
   "source": [
    "## Algorithms"
   ]
  },
  {
   "cell_type": "markdown",
   "metadata": {},
   "source": [
    "---"
   ]
  },
  {
   "cell_type": "markdown",
   "metadata": {
    "collapsed": false,
    "jupyter": {
     "outputs_hidden": false
    }
   },
   "source": [
    "```python\n",
    "    # TODO\n",
    "```"
   ]
  },
  {
   "cell_type": "markdown",
   "metadata": {},
   "source": [
    "---"
   ]
  },
  {
   "cell_type": "markdown",
   "metadata": {},
   "source": [
    "## Experiments"
   ]
  },
  {
   "cell_type": "code",
   "execution_count": 4,
   "metadata": {
    "is_executing": true
   },
   "outputs": [],
   "source": [
    "def generate_solutions(tsp: TSP, n_solutions: int) -> List[List[int]]:\n",
    "    return [\n",
    "        greedy_local_search(tsp, random_solution(tsp), two_edges_neighborhood)[0]\n",
    "        for _ in range(n_solutions)\n",
    "    ]"
   ]
  },
  {
   "cell_type": "code",
   "execution_count": 5,
   "metadata": {
    "collapsed": false,
    "jupyter": {
     "outputs_hidden": false
    }
   },
   "outputs": [],
   "source": [
    "def get_costs(tsp: TSP, solutions: List[List[int]]) -> List[int]:\n",
    "    return [tsp.get_solution_cost(s) for s in solutions]"
   ]
  },
  {
   "cell_type": "code",
   "execution_count": 6,
   "metadata": {
    "collapsed": false,
    "jupyter": {
     "outputs_hidden": false
    }
   },
   "outputs": [],
   "source": [
    "def get_to_best_similarities(best_solution: List[int], solutions: List[List[int]]) -> Dict[str, List[float]]:\n",
    "    return {\n",
    "        \"nodes\": calculate_similarities(best_solution, solutions, node_similarity),\n",
    "        \"edges\": calculate_similarities(best_solution, solutions, edge_similarity),\n",
    "    }"
   ]
  },
  {
   "cell_type": "code",
   "execution_count": 7,
   "metadata": {},
   "outputs": [],
   "source": [
    "def get_avg_similarities(solutions: List[List[int]]) -> Dict[str, List[float]]:\n",
    "    return {\n",
    "        \"nodes\": [calculate_avg_similarity(s, solutions, node_similarity) for s in solutions],\n",
    "        \"edges\": [calculate_avg_similarity(s, solutions, edge_similarity) for s in solutions],\n",
    "    }"
   ]
  },
  {
   "cell_type": "code",
   "execution_count": 21,
   "metadata": {
    "collapsed": false,
    "jupyter": {
     "outputs_hidden": false
    }
   },
   "outputs": [],
   "source": [
    "def plot(costs: List[int], similarities: Dict[str, List[float]]):\n",
    "    num_plots = len(similarities)\n",
    "    fig, axs = plt.subplots(1, len(similarities), figsize=(8 * num_plots, 8))\n",
    "\n",
    "    for i, (t, s) in enumerate(similarities.items()):\n",
    "        axs[i].title.set_text(t)\n",
    "        axs[i].scatter(costs, s)\n",
    "        correlation_coefficient, p_value = pearsonr(costs, s)\n",
    "        print(f\"Correlation for {t}\")\n",
    "        print(f\"Pearson Correlation Coefficient: {correlation_coefficient}\")\n",
    "        print(f\"P-value: {p_value}\")\n",
    "        print(f\"Correlation present? {p_value < 0.05}\")\n",
    "\n",
    "    plt.show()"
   ]
  },
  {
   "cell_type": "code",
   "execution_count": 22,
   "metadata": {},
   "outputs": [],
   "source": [
    "n_solutions = 5"
   ]
  },
  {
   "cell_type": "markdown",
   "metadata": {
    "collapsed": false,
    "jupyter": {
     "outputs_hidden": false
    }
   },
   "source": [
    "---"
   ]
  },
  {
   "cell_type": "markdown",
   "metadata": {},
   "source": [
    "### Instance C"
   ]
  },
  {
   "cell_type": "code",
   "execution_count": 23,
   "metadata": {
    "collapsed": false,
    "jupyter": {
     "outputs_hidden": false
    }
   },
   "outputs": [
    {
     "data": {
      "text/plain": [
       "47259.0"
      ]
     },
     "execution_count": 23,
     "metadata": {},
     "output_type": "execute_result"
    }
   ],
   "source": [
    "with open('../report_7/best_solutions_c.json', 'r', encoding='utf-8') as f:\n",
    "    c_best_solution = json.load(f)[1]\n",
    "\n",
    "tspc.get_solution_cost(c_best_solution)"
   ]
  },
  {
   "cell_type": "code",
   "execution_count": 24,
   "metadata": {},
   "outputs": [
    {
     "name": "stdout",
     "output_type": "stream",
     "text": [
      "CPU times: total: 9.58 s\n",
      "Wall time: 9.63 s\n"
     ]
    }
   ],
   "source": [
    "%%time\n",
    "random.seed(13)\n",
    "np.random.seed(13)\n",
    "\n",
    "c_solutions = generate_solutions(tspc, n_solutions)"
   ]
  },
  {
   "cell_type": "code",
   "execution_count": 25,
   "metadata": {},
   "outputs": [
    {
     "data": {
      "text/plain": [
       "(51561.0, 52186.0, 53332.0)"
      ]
     },
     "execution_count": 25,
     "metadata": {},
     "output_type": "execute_result"
    }
   ],
   "source": [
    "c_costs = get_costs(tspc, c_solutions)\n",
    "min(c_costs), sum(c_costs) / len(c_costs), max(c_costs)"
   ]
  },
  {
   "cell_type": "code",
   "execution_count": 26,
   "metadata": {},
   "outputs": [],
   "source": [
    "c_to_best_similarities = get_to_best_similarities(c_best_solution, c_solutions)\n",
    "c_avg_similarities = get_avg_similarities(c_solutions)"
   ]
  },
  {
   "cell_type": "markdown",
   "metadata": {},
   "source": [
    "##### Similarities to the best solution"
   ]
  },
  {
   "cell_type": "code",
   "execution_count": 27,
   "metadata": {},
   "outputs": [
    {
     "name": "stdout",
     "output_type": "stream",
     "text": [
      "Correlation for nodes\n",
      "Pearson Correlation Coefficient: -0.5250855005587642\n",
      "P-value: 0.36357801460762185\n",
      "Correlation present? False\n",
      "Correlation for edges\n",
      "Pearson Correlation Coefficient: 0.32976590204442624\n",
      "P-value: 0.5878680867091318\n",
      "Correlation present? False\n"
     ]
    },
    {
     "data": {
      "image/png": "[encoded data removed]",
      "text/plain": [
       "<Figure size 1600x800 with 2 Axes>"
      ]
     },
     "metadata": {},
     "output_type": "display_data"
    }
   ],
   "source": [
    "plot(c_costs, c_to_best_similarities)"
   ]
  },
  {
   "cell_type": "markdown",
   "metadata": {},
   "source": [
    "---"
   ]
  },
  {
   "cell_type": "markdown",
   "metadata": {},
   "source": [
    "##### Average Similarities to other solutions"
   ]
  },
  {
   "cell_type": "code",
   "execution_count": 28,
   "metadata": {},
   "outputs": [
    {
     "name": "stdout",
     "output_type": "stream",
     "text": [
      "Correlation for nodes\n",
      "Pearson Correlation Coefficient: -0.15377496350566425\n",
      "P-value: 0.8049820377174064\n",
      "Correlation present? False\n",
      "Correlation for edges\n",
      "Pearson Correlation Coefficient: 0.5653499634562595\n",
      "P-value: 0.3206076334535428\n",
      "Correlation present? False\n"
     ]
    },
    {
     "data": {
      "image/png": "[encoded data removed]",
      "text/plain": [
       "<Figure size 1600x800 with 2 Axes>"
      ]
     },
     "metadata": {},
     "output_type": "display_data"
    }
   ],
   "source": [
    "plot(c_costs, c_avg_similarities)"
   ]
  },
  {
   "cell_type": "markdown",
   "metadata": {},
   "source": [
    "---"
   ]
  },
  {
   "cell_type": "code",
   "execution_count": 80,
   "metadata": {},
   "outputs": [],
   "source": [
    "with open('c_costs.json', 'w', encoding='utf-8') as f:\n",
    "    json.dump(c_costs, f, ensure_ascii=False, indent=4)\n",
    "with open('c_to_best_similarities.json', 'w', encoding='utf-8') as f:\n",
    "    json.dump(c_to_best_similarities, f, ensure_ascii=False, indent=4)\n",
    "with open('c_avg_similarities.json', 'w', encoding='utf-8') as f:\n",
    "    json.dump(c_avg_similarities, f, ensure_ascii=False, indent=4)"
   ]
  },
  {
   "cell_type": "markdown",
   "metadata": {},
   "source": [
    "---"
   ]
  },
  {
   "cell_type": "markdown",
   "metadata": {},
   "source": [
    "## Conclusions"
   ]
  },
  {
   "cell_type": "markdown",
   "metadata": {},
   "source": [
    "TODO"
   ]
  }
 ],
 "metadata": {
  "kernelspec": {
   "display_name": "Python 3 (ipykernel)",
   "language": "python",
   "name": "python3"
  },
  "language_info": {
   "codemirror_mode": {
    "name": "ipython",
    "version": 3
   },
   "file_extension": ".py",
   "mimetype": "text/x-python",
   "name": "python",
   "nbconvert_exporter": "python",
   "pygments_lexer": "ipython3",
   "version": "3.11.4"
  }
 },
 "nbformat": 4,
 "nbformat_minor": 4
}
